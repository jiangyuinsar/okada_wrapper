{
  "nbformat": 4,
  "nbformat_minor": 0,
  "metadata": {
    "colab": {
      "name": "InstantOkada.ipynb",
      "provenance": [],
      "collapsed_sections": [],
      "authorship_tag": "ABX9TyPrw/OCKSufqEYhk7NwwNIj",
      "include_colab_link": true
    },
    "kernelspec": {
      "name": "python3",
      "display_name": "Python 3"
    },
    "language_info": {
      "name": "python"
    }
  },
  "cells": [
    {
      "cell_type": "markdown",
      "metadata": {
        "id": "view-in-github",
        "colab_type": "text"
      },
      "source": [
        "<a href=\"https://colab.research.google.com/github/jiangyuinsar/okada_wrapper/blob/master/InstantOkada.ipynb\" target=\"_parent\"><img src=\"https://colab.research.google.com/assets/colab-badge.svg\" alt=\"Open In Colab\"/></a>"
      ]
    },
    {
      "cell_type": "markdown",
      "source": [
        "# [Yu Jiang](https://www.twitter.com/jiangyuinsar)"
      ],
      "metadata": {
        "id": "H8cWonI2ZiUi"
      }
    },
    {
      "cell_type": "code",
      "execution_count": null,
      "metadata": {
        "id": "hzRz2nchYU2i",
        "colab": {
          "base_uri": "https://localhost:8080/"
        },
        "outputId": "dc2d78b8-7204-41d8-d18a-2bb564953d58"
      },
      "outputs": [
        {
          "output_type": "stream",
          "name": "stdout",
          "text": [
            "Requirement already satisfied: okada_wrapper in /usr/local/lib/python3.7/dist-packages (18.12.7.3)\n",
            "Requirement already satisfied: numpy in /usr/local/lib/python3.7/dist-packages (from okada_wrapper) (1.19.5)\n"
          ]
        }
      ],
      "source": [
        "# install okada_wrapper (https://github.com/tbenthompson/okada_wrapper) from PyPI\n",
        "!pip install okada_wrapper"
      ]
    },
    {
      "cell_type": "code",
      "source": [
        "from okada_wrapper import dc3d0wrapper, dc3dwrapper\n",
        "import numpy as np\n",
        "import matplotlib.pyplot as plt\n",
        "# Yu Jiang\n",
        "# University of Liverpool\n",
        "# Dec 8, 2021\n",
        "\n",
        "##################\n",
        "# 1 input\n",
        "##################\n",
        "# (1) observation points\n",
        "roi_x = 100000 # length of roi (unit: meter)\n",
        "roi_y = 100000 # width of roi (unit: meter)\n",
        "dxy = 100 # resolution of roi (unit: meter)\n",
        "n = (int(roi_x/dxy), int(roi_y/dxy))\n",
        "x_1d = np.linspace(-roi_x/2, roi_x/2, n[0])\n",
        "y_1d = np.linspace(-roi_y/2, roi_y/2, n[1])\n",
        "x_2d = np.zeros((n[0]*n[1],1))\n",
        "y_2d = np.zeros((n[0]*n[1],1))\n",
        "\n",
        "# (2) satellite parameters\n",
        "Inc = 41 # incidence angle (unit: degree)\n",
        "Heading = -169 # heading angle (unit: degree)\n",
        "wavelength = 0.056 # wavelength (unit: meter)\n",
        "\n",
        "UEast = -np.cos(Heading*np.pi/180)*np.sin(Inc*np.pi/180)\n",
        "UNorth = np.sin(Heading*np.pi/180)*np.sin(Inc*np.pi/180)\n",
        "UVert = np.cos(Inc*np.pi/180)\n",
        "\n",
        "# (3) fault parameters \n",
        "fault_length = 20000 # fault length (unit: meter)\n",
        "fault_width = 7000 # fault width (unit: meter)\n",
        "fault_mid_depth = 3500 # middle depth (unit: meter)\n",
        "fault_strike = 317 # fault strike angle (unit: degree)\n",
        "fault_dip = 76 # fault dip angle (unit: degree)\n",
        "fault_strike_slip = 0 # fault strike slip (unit: meter)\n",
        "fault_dip_slip = 1.8 # fault dip angle (unit: meter)\n",
        "\n",
        "nu = 0.25\n",
        "mu = 1.0\n",
        "lmda = 2 * mu * nu / (1 - 2 * nu)\n",
        "alpha = (lmda + mu) / (lmda + 2 * mu)\n",
        "\n",
        "##################\n",
        "# 2 calculation\n",
        "##################\n",
        "ux_2d = np.zeros((n[0]*n[1],1))\n",
        "uy_2d = np.zeros((n[0]*n[1],1))\n",
        "uz_2d = np.zeros((n[0]*n[1],1))\n",
        "k = 0\n",
        "for i in range(n[0]):\n",
        "    for j in range(n[1]):\n",
        "        success, u, grad_u = dc3dwrapper(alpha,[x_1d[i], y_1d[j], 0], fault_mid_depth, fault_dip,[-fault_length/2,fault_length/2], [-fault_width/2,fault_width/2],[fault_strike_slip, fault_dip_slip, 0.0])\n",
        "        x_2d[k] = x_1d[i]\n",
        "        y_2d[k] = y_1d[j]\n",
        "        ux_2d[k] = -u[1]\n",
        "        uy_2d[k] = u[0]\n",
        "        uz_2d[k] = u[2]\n",
        "        k = k+1\n",
        "\n",
        "ULos = UEast*ux_2d + UNorth*uy_2d + UVert*uz_2d # surface deformation in satellite line-of-sight direction\n",
        "ULos = -ULos*(4*np.pi)/wavelength # convert unit from meter to radian\n",
        "\n",
        "##################\n",
        "# 3 plot\n",
        "##################\n",
        "rx = np.cos((-fault_strike+90)*np.pi/180)*x_2d - np.sin((-fault_strike+90)*np.pi/180)*y_2d\n",
        "ry = np.sin((-fault_strike+90)*np.pi/180)*x_2d + np.cos((-fault_strike+90)*np.pi/180)*y_2d\n",
        "\n",
        "plt.figure(figsize=(14, 14))\n",
        "plt.axis('equal')\n",
        "plt.scatter(rx/1000, ry/1000, s=5, marker='o', c= ((ULos+np.pi)%(2*np.pi)-np.pi))\n",
        "plt.clim(-np.pi,np.pi)\n",
        "cbar = plt.colorbar()\n",
        "cbar.ax.set_ylabel('line-of-sight phase (radian)', rotation=90)\n",
        "plt.rcParams.update({'font.size': 22})\n",
        "plt.xlabel('X (km)')\n",
        "plt.ylabel('Y (km)')\n",
        "plt.title('InSAR wrapped phase')\n",
        "plt.xlim(-20,20)\n",
        "plt.ylim(-20,20)\n",
        "plt.gca().set_aspect('equal', adjustable='box')\n",
        "plt.show()\n"
      ],
      "metadata": {
        "id": "B45ss9T1Yspj"
      },
      "execution_count": null,
      "outputs": []
    }
  ]
}